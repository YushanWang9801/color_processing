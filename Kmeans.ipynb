{
 "cells": [
  {
   "cell_type": "code",
   "execution_count": 3,
   "metadata": {},
   "outputs": [
    {
     "data": {
      "image/png": "[encoded data removed]",
      "text/plain": [
       "<Figure size 432x288 with 1 Axes>"
      ]
     },
     "metadata": {
      "needs_background": "light"
     },
     "output_type": "display_data"
    }
   ],
   "source": [
    "from matplotlib import image as img\n",
    "import matplotlib.pyplot as plt\n",
    "import pandas as pd\n",
    "\n",
    "image = img.imread('./images/1.jpg')\n",
    "df = pd.DataFrame()\n",
    "df['r']=pd.Series(image[:,:,0].flatten())\n",
    "df['g']=pd.Series(image[:,:,1].flatten())\n",
    "df['b']=pd.Series(image[:,:,2].flatten())\n",
    "\n",
    "from scipy.cluster.vq import whiten\n",
    "df['r_whiten'] = whiten(df['r'])\n",
    "df['g_whiten'] = whiten(df['g'])\n",
    "df['b_whiten'] = whiten(df['b'])\n",
    "\n",
    "from scipy.cluster.vq import kmeans\n",
    "cluster_centers, distortion = kmeans(df[['r_whiten', 'g_whiten', 'b_whiten']], 5)\n",
    "\n",
    "r_std, g_std, b_std = df[['r', 'g', 'b']].std()\n",
    "colors=[]\n",
    "for color in cluster_centers:\n",
    "    sr, sg, sb = color\n",
    "    colors.append((int(sr*r_std), int(sg*g_std), int(sb*b_std)))\n",
    "plt.imshow([colors])\n",
    "plt.show()\n"
   ]
  },
  {
   "cell_type": "code",
   "execution_count": 4,
   "metadata": {},
   "outputs": [],
   "source": [
    "import matplotlib.pyplot as plt\n",
    "from sklearn.cluster import KMeans\n",
    "import cv2\n",
    "from matplotlib import image as img\n",
    "\n",
    "image = img.imread('./images/1.jpg')\n",
    "pixels = image.reshape(-1, 3)\n",
    "# Perform k-means clustering to extract the dominant colors\n",
    "kmeans = KMeans(n_clusters=5, random_state=0).fit(pixels)\n",
    "centers = kmeans.cluster_centers_\n",
    "\n",
    "colors = []\n",
    "for color in centers:\n",
    "    colors.append((int(color[0]), int(color[1]), int(color[2])))"
   ]
  },
  {
   "cell_type": "code",
   "execution_count": 5,
   "metadata": {},
   "outputs": [
    {
     "data": {
      "image/png": "[encoded data removed]",
      "text/plain": [
       "<Figure size 432x288 with 1 Axes>"
      ]
     },
     "metadata": {
      "needs_background": "light"
     },
     "output_type": "display_data"
    }
   ],
   "source": [
    "plt.imshow([colors])\n",
    "plt.show()"
   ]
  },
  {
   "cell_type": "code",
   "execution_count": 6,
   "metadata": {},
   "outputs": [
    {
     "data": {
      "image/png": "[encoded data removed]",
      "text/plain": [
       "<Figure size 432x288 with 1 Axes>"
      ]
     },
     "metadata": {
      "needs_background": "light"
     },
     "output_type": "display_data"
    }
   ],
   "source": [
    "import numpy as np\n",
    "dominant_colors = centers[np.argsort(np.unique(kmeans.labels_, return_counts=True)[1])[::-1]]\n",
    "colors = []\n",
    "for color in dominant_colors:\n",
    "    colors.append((int(color[0]), int(color[1]), int(color[2])))\n",
    "plt.imshow([colors])\n",
    "plt.show()"
   ]
  },
  {
   "cell_type": "code",
   "execution_count": 19,
   "metadata": {},
   "outputs": [],
   "source": [
    "colors_cb =[]\n",
    "sim_matrix = np.array([[0, 0.90822864, 0.008192], [0, 1, 0], [0, 0, 1]], dtype=np.float16)\n",
    "rgb_matrix = np.array(\n",
    "        [[ 2.85831110e+00, -1.62870796e+00, -2.48186967e-02],\n",
    "        [-2.10434776e-01,  1.15841493e+00,  3.20463334e-04],\n",
    "        [-4.18895045e-02, -1.18154333e-01,  1.06888657e+00]]\n",
    "        )\n",
    "\n",
    "for color in colors:\n",
    "    color_cb = np.tensordot(np.array(color).reshape((1,1,3)), sim_matrix, axes=([2], [1]))\n",
    "    color_cb = np.tensordot(color_cb, rgb_matrix, axes=([2], [1]))\n",
    "    colors_cb.append(color_cb.astype(np.uint8))"
   ]
  },
  {
   "cell_type": "code",
   "execution_count": 25,
   "metadata": {},
   "outputs": [],
   "source": [
    "colors = []\n",
    "for c in colors_cb:\n",
    "    colors.append((int(c[0,0,0]), int(c[0,0,1]), int(c[0,0,2])))"
   ]
  },
  {
   "cell_type": "code",
   "execution_count": 26,
   "metadata": {},
   "outputs": [
    {
     "data": {
      "image/png": "[encoded data removed]",
      "text/plain": [
       "<Figure size 432x288 with 1 Axes>"
      ]
     },
     "metadata": {
      "needs_background": "light"
     },
     "output_type": "display_data"
    }
   ],
   "source": [
    "plt.imshow([colors])\n",
    "plt.show()"
   ]
  },
  {
   "cell_type": "code",
   "execution_count": null,
   "metadata": {},
   "outputs": [],
   "source": [
    "from colorblind import colorblind\n",
    "\n",
    "colorblind.simulate_blindeness"
   ]
  }
 ],
 "metadata": {
  "kernelspec": {
   "display_name": "base",
   "language": "python",
   "name": "python3"
  },
  "language_info": {
   "codemirror_mode": {
    "name": "ipython",
    "version": 3
   },
   "file_extension": ".py",
   "mimetype": "text/x-python",
   "name": "python",
   "nbconvert_exporter": "python",
   "pygments_lexer": "ipython3",
   "version": "3.8.8"
  },
  "orig_nbformat": 4
 },
 "nbformat": 4,
 "nbformat_minor": 2
}
