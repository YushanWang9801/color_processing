{
 "cells": [
  {
   "cell_type": "code",
   "execution_count": 1,
   "metadata": {},
   "outputs": [
    {
     "data": {
      "text/plain": [
       "(1875, 6000, 3)"
      ]
     },
     "execution_count": 1,
     "metadata": {},
     "output_type": "execute_result"
    }
   ],
   "source": [
    "from matplotlib import image as img\n",
    "import matplotlib.pyplot as plt\n",
    "import pandas as pd\n",
    "image = img.imread('./images/1.jpg')\n",
    "df = pd.DataFrame()\n",
    "df['r']=pd.Series(image[:,:,0].flatten())\n",
    "df['g']=pd.Series(image[:,:,1].flatten())\n",
    "df['b']=pd.Series(image[:,:,2].flatten())\n",
    "\n",
    "from scipy.cluster.vq import whiten\n",
    "df['r_whiten'] = whiten(df['r'])\n",
    "df['g_whiten'] = whiten(df['g'])\n",
    "df['b_whiten'] = whiten(df['b'])\n",
    "\n",
    "from scipy.cluster.vq import kmeans\n",
    "cluster_centers, distortion = kmeans(df[['r_whiten', 'g_whiten', 'b_whiten']], 5)\n",
    "\n",
    "r_std, g_std, b_std = df[['r', 'g', 'b']].std()\n",
    "colors=[]\n",
    "for color in cluster_centers:\n",
    "    sr, sg, sb = color\n",
    "    colors.append((int(sr*r_std), int(sg*g_std), int(sb*b_std)))\n",
    "plt.imshow([colors])\n",
    "plt.show()\n"
   ]
  },
  {
   "cell_type": "code",
   "execution_count": 9,
   "metadata": {},
   "outputs": [
    {
     "data": {
      "image/png": "[encoded data removed]",
      "text/plain": [
       "<Figure size 432x288 with 1 Axes>"
      ]
     },
     "metadata": {
      "needs_background": "light"
     },
     "output_type": "display_data"
    },
    {
     "data": {
      "text/plain": [
       "[(254, 189, 81), (14, 14, 14), (253, 128, 103), (249, 183, 160)]"
      ]
     },
     "execution_count": 9,
     "metadata": {},
     "output_type": "execute_result"
    }
   ],
   "source": [
    "r_std, g_std, b_std = df[['r', 'g', 'b']].std()\n",
    "colors=[]\n",
    "for color in cluster_centers:\n",
    "    sr, sg, sb = color\n",
    "    colors.append((int(sr*r_std), int(sg*g_std), int(sb*b_std)))\n",
    "plt.imshow([colors])\n",
    "plt.show()\n",
    "colors"
   ]
  },
  {
   "cell_type": "code",
   "execution_count": null,
   "metadata": {},
   "outputs": [],
   "source": []
  }
 ],
 "metadata": {
  "kernelspec": {
   "display_name": "base",
   "language": "python",
   "name": "python3"
  },
  "language_info": {
   "codemirror_mode": {
    "name": "ipython",
    "version": 3
   },
   "file_extension": ".py",
   "mimetype": "text/x-python",
   "name": "python",
   "nbconvert_exporter": "python",
   "pygments_lexer": "ipython3",
   "version": "3.8.8"
  },
  "orig_nbformat": 4
 },
 "nbformat": 4,
 "nbformat_minor": 2
}
